{
  "nbformat": 4,
  "nbformat_minor": 0,
  "metadata": {
    "colab": {
      "private_outputs": true,
      "provenance": [],
      "authorship_tag": "ABX9TyPqfpuc4Rzfa3irZjjYogAs",
      "include_colab_link": true
    },
    "kernelspec": {
      "name": "python3",
      "display_name": "Python 3"
    },
    "language_info": {
      "name": "python"
    }
  },
  "cells": [
    {
      "cell_type": "markdown",
      "metadata": {
        "id": "view-in-github",
        "colab_type": "text"
      },
      "source": [
        "<a href=\"https://colab.research.google.com/github/MK316/Roadmap/blob/main/Roadmap.ipynb\" target=\"_parent\"><img src=\"https://colab.research.google.com/assets/colab-badge.svg\" alt=\"Open In Colab\"/></a>"
      ]
    },
    {
      "cell_type": "markdown",
      "source": [
        "# 🌀 영어 임용 로드맵 Workshop (2023. 5. 23)\n",
        "\n",
        "+ 공립(국립[1], 사립[2]) 중등학교 교사 임용후보자 선정경쟁시험 >> **임용시험**\n",
        "+ 2022, 2023학번 기준\n",
        "+ Prepared by Miran Kim\n",
        "+ Dept. of English Education"
      ],
      "metadata": {
        "id": "1RidZ8319EaJ"
      }
    },
    {
      "cell_type": "markdown",
      "source": [
        "# **Part 1: Basic Information**"
      ],
      "metadata": {
        "id": "v9O1-cv29ZFX"
      }
    },
    {
      "cell_type": "markdown",
      "source": [
        "## 🌱 작년예시:\n",
        "\n",
        "||||\n",
        "|--|--|--|\n",
        "|원서접수| 2022년 10/17(월) 9AM - 10/21(금) 18:00 PM ||\n",
        "|1차시험|2022년 11/26(토)||\n",
        "|1차시험발표|2022년 12월 29일 10AM| |\n",
        "|2차시험|2023년 1/18~1/19 (2일간)||\n",
        "|2차시험발표| 2023년 2월 7일 10AM||"
      ],
      "metadata": {
        "id": "fQOwAYw-_qSC"
      }
    },
    {
      "cell_type": "code",
      "source": [
        "#markdown Slides (1~13)\n",
        "from IPython.display import display\n",
        "import ipywidgets as widgets\n",
        "import requests\n",
        "\n",
        "def on_button_click(button):\n",
        "    sn = int(button.description) - 1\n",
        "    image.value = requests.get(urls[sn]).content\n",
        "\n",
        "urls = [\"https://github.com/MK316/workshops/raw/main/20230512_GNU/images/0512cover.png\",\n",
        "        \"https://github.com/MK316/workshops/raw/main/20230512_GNU/images/handwriting.png\",\n",
        "        \"https://github.com/MK316/workshops/raw/main/20230512_GNU/images/Slides.002.jpeg\",\n",
        "        \"https://github.com/MK316/workshops/raw/main/20230512_GNU/images/Slides.003.jpeg\",\n",
        "        \"https://github.com/MK316/workshops/raw/main/20230512_GNU/images/Slides.004.jpeg\",\n",
        "        \"https://github.com/MK316/workshops/raw/main/20230512_GNU/images/Slides.005.jpeg\",\n",
        "        \"https://github.com/MK316/workshops/raw/main/20230512_GNU/images/Slides.006.jpeg\",\n",
        "        \"https://github.com/MK316/workshops/raw/main/20230512_GNU/images/Slides.007.jpeg\",\n",
        "        \"https://github.com/MK316/workshops/raw/main/20230512_GNU/images/Slides.008.jpeg\",\n",
        "        \"https://github.com/MK316/workshops/raw/main/20230512_GNU/images/Slides.009.jpeg\",\n",
        "        \"https://github.com/MK316/workshops/raw/main/20230512_GNU/images/Slides.010.jpeg\",\n",
        "        \"https://github.com/MK316/workshops/raw/main/20230512_GNU/images/Slides.011.jpeg\",\n",
        "        \"https://github.com/MK316/workshops/raw/main/20230512_GNU/images/Slides.012.jpeg\",\n",
        "        \"https://github.com/MK316/workshops/raw/main/20230512_GNU/images/Slides.013.jpeg\"\n",
        "]\n",
        "\n",
        "button_layout = widgets.Layout(width='50px', height='30px')\n",
        "\n",
        "buttons = [widgets.Button(description=str(i), layout=button_layout) for i in range(1, 15)]\n",
        "for button in buttons:\n",
        "    button.on_click(on_button_click)\n",
        "\n",
        "image = widgets.Image(value=requests.get(urls[0]).content, width=\"700\", height=\"600\")\n",
        "\n",
        "display(widgets.HBox([image, widgets.VBox(buttons)]))\n"
      ],
      "metadata": {
        "id": "8xZOmfN89hWH"
      },
      "execution_count": null,
      "outputs": []
    },
    {
      "cell_type": "code",
      "execution_count": null,
      "metadata": {
        "cellView": "form",
        "id": "McYCJiPVLr9K"
      },
      "outputs": [],
      "source": [
        "#@markdown Days left (Count Down)\n",
        "from datetime import datetime\n",
        "\n",
        "# Get the current date from the user\n",
        "access_date_str = input(\"Enter the current date (in YYYYMMDD format): \")\n",
        "access_date = datetime.strptime(access_date_str, \"%Y%m%d\")\n",
        "\n",
        "# Get the event date from the user\n",
        "event_date_str = input(\"Enter the event date (in YYYYMMDD format): \")\n",
        "event_date = datetime.strptime(event_date_str, \"%Y%m%d\")\n",
        "\n",
        "# Calculate the number of days until the event\n",
        "days_remaining = (event_date - access_date).days\n",
        "\n",
        "# Display the number of days remaining\n",
        "print(f\"There are {days_remaining} days until the event.\")\n"
      ]
    },
    {
      "cell_type": "markdown",
      "source": [
        "## 주요 링크\n",
        "\n",
        "+ [경남교육청: 시험공지, 발표 등](https://www.gne.go.kr/index.gne?contentsSid=1384)\n",
        "+ [한국교육과정평가원: 임용정보, 기출문제, 채점 등 관리](https://www.kice.re.kr/main.do?s=kice)\n",
        "+ [영어교육과 홈페이지](https://englishedu.gnu.ac.kr)"
      ],
      "metadata": {
        "id": "LB52xk49CJkT"
      }
    },
    {
      "cell_type": "code",
      "execution_count": null,
      "metadata": {
        "id": "p7pSMosd89JV"
      },
      "outputs": [],
      "source": []
    }
  ]
}